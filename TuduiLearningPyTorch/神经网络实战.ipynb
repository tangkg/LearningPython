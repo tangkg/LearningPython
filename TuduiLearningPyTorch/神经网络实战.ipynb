{
 "cells": [
  {
   "cell_type": "code",
   "execution_count": 26,
   "metadata": {},
   "outputs": [
    {
     "name": "stdout",
     "output_type": "stream",
     "text": [
      "torch.Size([64, 10])\n"
     ]
    }
   ],
   "source": [
    "import torch\n",
    "import torch.nn as nn\n",
    "from torch.utils.tensorboard import SummaryWriter\n",
    "\n",
    "# CIFAR10 Model\n",
    "class Tudui(nn.Module):\n",
    "    def __init__(self):\n",
    "        super(Tudui, self).__init__()\n",
    "        # self.conv1 = nn.Conv2d(3, 32, 5, padding=2)\n",
    "        # self.pool1 = nn.MaxPool2d(2)\n",
    "        # self.conv2 = nn.Conv2d(32, 32, 5, padding=2)\n",
    "        # self.pool2 = nn.MaxPool2d(2)\n",
    "        # self.conv3 = nn.Conv2d(32, 64, 5, padding=2)\n",
    "        # self.pool3 = nn.MaxPool2d(2)\n",
    "        # self.flatten = nn.Flatten()\n",
    "        # self.fc1 = nn.Linear(64 * 4 * 4, 64)\n",
    "        # self.fc2 = nn.Linear(64, 10)\n",
    "\n",
    "        self.model1 = nn.Sequential(\n",
    "            nn.Conv2d(3, 32, 5, padding=2),\n",
    "            nn.MaxPool2d(2),\n",
    "            nn.Conv2d(32, 32, 5, padding=2),\n",
    "            nn.MaxPool2d(2),\n",
    "            nn.Conv2d(32, 64, 5, padding=2),\n",
    "            nn.MaxPool2d(2),\n",
    "            nn.Flatten(),\n",
    "            nn.Linear(64 * 4 * 4, 64),\n",
    "            nn.Linear(64, 10)\n",
    "        )\n",
    "\n",
    "\n",
    "    def forward(self, input):\n",
    "        x = self.model1(input)\n",
    "        # x = self.conv1(input)\n",
    "        # x = self.pool1(x)\n",
    "        # x = self.conv2(x)\n",
    "        # x = self.pool2(x)\n",
    "        # x = self.conv3(x)\n",
    "        # x = self.pool3(x)\n",
    "        # x = self.flatten(x)\n",
    "        # x = self.fc1(x)\n",
    "        # x = self.fc2(x)\n",
    "        return x\n",
    "\n",
    "tudui = Tudui()\n",
    "# print(tudui)\n",
    "\n",
    "input = torch.ones(64, 3, 32, 32)\n",
    "output = tudui(input)\n",
    "print(output.shape)\n",
    "\n",
    "writer = SummaryWriter('logs/log_sequential')\n",
    "writer.add_graph(tudui, input)\n",
    "writer.close()"
   ]
  },
  {
   "cell_type": "markdown",
   "metadata": {},
   "source": [
    "### P23 损失函数和反向传播"
   ]
  },
  {
   "cell_type": "code",
   "execution_count": 16,
   "metadata": {},
   "outputs": [
    {
     "name": "stdout",
     "output_type": "stream",
     "text": [
      "tensor(0.6667) tensor(1.3333)\n"
     ]
    }
   ],
   "source": [
    "import torch\n",
    "import torch.nn as nn\n",
    "\n",
    "\n",
    "inputs = torch.tensor([1,2,3], dtype=torch.float32)\n",
    "targets = torch.tensor([1,2,5], dtype=torch.float32)\n",
    "\n",
    "inputs = torch.reshape(inputs, (1, 1, 1, 3))\n",
    "targets = torch.reshape(targets, (1, 1, 1, 3))\n",
    "inputs, targets\n",
    "\n",
    "loss = nn.L1Loss()\n",
    "result = loss(inputs, targets)\n",
    "\n",
    "loss_mse = nn.MSELoss()\n",
    "result_mse = loss_mse(inputs, targets)\n",
    "\n",
    "print(result, result_mse)"
   ]
  },
  {
   "cell_type": "code",
   "execution_count": 23,
   "metadata": {},
   "outputs": [
    {
     "name": "stdout",
     "output_type": "stream",
     "text": [
      "tensor(1.1019)\n"
     ]
    }
   ],
   "source": [
    "x = torch.tensor([0.1, 0.2, 0.3], dtype=torch.float32)\n",
    "y = torch.tensor([1], dtype=torch.long)\n",
    "x = torch.reshape(x, (1, 3))\n",
    "loss_cross = nn.CrossEntropyLoss()\n",
    "result_cross = loss_cross(x, y)\n",
    "print(result_cross)"
   ]
  },
  {
   "cell_type": "code",
   "execution_count": 46,
   "metadata": {},
   "outputs": [
    {
     "name": "stdout",
     "output_type": "stream",
     "text": [
      "Files already downloaded and verified\n",
      "epoch: 1, loss: 2.181\n",
      "epoch: 2, loss: 1.850\n",
      "epoch: 3, loss: 1.666\n",
      "epoch: 4, loss: 1.558\n",
      "epoch: 5, loss: 1.475\n",
      "epoch: 6, loss: 1.403\n",
      "epoch: 7, loss: 1.335\n",
      "epoch: 8, loss: 1.272\n",
      "epoch: 9, loss: 1.213\n",
      "epoch: 10, loss: 1.159\n"
     ]
    }
   ],
   "source": [
    "import torch\n",
    "import torch.nn as nn\n",
    "from torch.utils.tensorboard import SummaryWriter\n",
    "import torchvision\n",
    "\n",
    "\n",
    "dataset = torchvision.datasets.CIFAR10(root='data', train=True, download=True, transform=torchvision.transforms.ToTensor())\n",
    "\n",
    "dataloader = torch.utils.data.DataLoader(dataset, batch_size=64)\n",
    "\n",
    "loss = nn.CrossEntropyLoss()\n",
    "tudui = Tudui()\n",
    "optim = torch.optim.SGD(tudui.parameters(), lr=0.01)\n",
    "device = torch.device(\"cuda\" if torch.cuda.is_available() else \"cpu\")\n",
    "\n",
    "for epoch in range(10):\n",
    "    running_loss = 0.0\n",
    "    for data in dataloader:\n",
    "        imgs, targets = data\n",
    "        outputs = tudui(imgs)\n",
    "        result = loss(outputs, targets)\n",
    "        optim.zero_grad()\n",
    "        result.backward()\n",
    "        optim.step()\n",
    "        running_loss += result.item()\n",
    "    print('epoch: %d, loss: %.3f' % (epoch + 1, running_loss / len(dataloader)))"
   ]
  },
  {
   "attachments": {},
   "cell_type": "markdown",
   "metadata": {},
   "source": [
    "### P24 优化器"
   ]
  },
  {
   "cell_type": "code",
   "execution_count": 41,
   "metadata": {},
   "outputs": [
    {
     "data": {
      "text/plain": [
       "1"
      ]
     },
     "execution_count": 41,
     "metadata": {},
     "output_type": "execute_result"
    }
   ],
   "source": [
    "# 如上"
   ]
  }
 ],
 "metadata": {
  "kernelspec": {
   "display_name": "base",
   "language": "python",
   "name": "python3"
  },
  "language_info": {
   "codemirror_mode": {
    "name": "ipython",
    "version": 3
   },
   "file_extension": ".py",
   "mimetype": "text/x-python",
   "name": "python",
   "nbconvert_exporter": "python",
   "pygments_lexer": "ipython3",
   "version": "3.10.9"
  },
  "orig_nbformat": 4
 },
 "nbformat": 4,
 "nbformat_minor": 2
}

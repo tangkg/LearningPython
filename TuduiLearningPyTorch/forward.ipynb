{
 "cells": [
  {
   "attachments": {},
   "cell_type": "markdown",
   "metadata": {},
   "source": [
    "### P16 nn.Module的使用"
   ]
  },
  {
   "cell_type": "code",
   "execution_count": 2,
   "metadata": {},
   "outputs": [
    {
     "data": {
      "text/plain": [
       "tensor([2.])"
      ]
     },
     "execution_count": 2,
     "metadata": {},
     "output_type": "execute_result"
    }
   ],
   "source": [
    "import torch\n",
    "from torch import nn\n",
    "\n",
    "class Tudui(nn.Module):\n",
    "    def __init__(self):\n",
    "        super().__init__()\n",
    "        #self.linear = nn.Linear(1, 1)\n",
    "\n",
    "    def forward(self, input):\n",
    "        output = input * 2\n",
    "        return output\n",
    "    \n",
    "tudui = Tudui()\n",
    "tudui(torch.tensor([1.0]))"
   ]
  },
  {
   "attachments": {},
   "cell_type": "markdown",
   "metadata": {},
   "source": [
    "### P17 土说卷积操作"
   ]
  },
  {
   "cell_type": "code",
   "execution_count": 15,
   "metadata": {},
   "outputs": [
    {
     "data": {
      "text/plain": [
       "(tensor([[[[ 1,  3,  4, 10,  8],\n",
       "           [ 5, 10, 12, 12,  6],\n",
       "           [ 7, 18, 16, 16,  8],\n",
       "           [11, 13,  9,  3,  4],\n",
       "           [14, 13,  9,  7,  4]]]]),\n",
       " tensor([[[[ 0,  4,  3,  2],\n",
       "           [ 1, 10, 12,  1],\n",
       "           [ 1, 13,  3,  2],\n",
       "           [ 2,  4,  3,  1]]]]))"
      ]
     },
     "execution_count": 15,
     "metadata": {},
     "output_type": "execute_result"
    }
   ],
   "source": [
    "import torch\n",
    "import torch.nn.functional as F\n",
    "\n",
    "input = torch.tensor([[1, 2, 0, 3, 1],\n",
    "                      [0, 1, 2, 3, 1],\n",
    "                      [1, 2, 1, 0, 0],\n",
    "                      [5, 2, 3, 1, 1],\n",
    "                      [2, 1, 0, 1, 1]])\n",
    "kernal = torch.tensor([[1, 2, 1],\n",
    "                       [0, 1, 0],\n",
    "                       [2, 1, 0]])\n",
    "\n",
    "input = torch.reshape(input, (1, 1, 5, 5))\n",
    "kernal = torch.reshape(kernal, (1, 1, 3, 3))\n",
    "input, kernal\n",
    "\n",
    "output = F.conv2d(input, kernal, stride=1, padding=1)\n",
    "\n",
    "output2 = F.conv2d(input, kernal, stride=2, padding=2)\n",
    "\n",
    "output, output2"
   ]
  },
  {
   "attachments": {},
   "cell_type": "markdown",
   "metadata": {},
   "source": [
    "### P18 卷积层"
   ]
  },
  {
   "cell_type": "code",
   "execution_count": 39,
   "metadata": {},
   "outputs": [
    {
     "name": "stdout",
     "output_type": "stream",
     "text": [
      "Files already downloaded and verified\n"
     ]
    }
   ],
   "source": [
    "import torch\n",
    "import torchvision\n",
    "from torch import nn\n",
    "from torch.utils.data import DataLoader\n",
    "from torch.utils.tensorboard import SummaryWriter\n",
    "\n",
    "dataset = torchvision.datasets.CIFAR10(root='./data', train=False, transform=torchvision.transforms.ToTensor(), download=True)\n",
    "\n",
    "dataloader = DataLoader(dataset, batch_size=64)\n",
    "\n",
    "class Tudui(nn.Module):\n",
    "    def __init__(self):\n",
    "        super().__init__()\n",
    "        self.conv1 = nn.Conv2d(3, 6, 3, stride=1, padding=0)\n",
    "\n",
    "    def forward(self, input):\n",
    "        output = self.conv1(input)\n",
    "        return output\n",
    "    \n",
    "tudui = Tudui()\n",
    "\n",
    "writer = SummaryWriter('./logs')\n",
    "\n",
    "step = 0\n",
    "for data in dataloader:\n",
    "    img, label = data\n",
    "    output = tudui(img)\n",
    "    # print(img.shape)\n",
    "    # print(output.shape)\n",
    "\n",
    "    # torch.Size([64, 3, 32, 32])\n",
    "    writer.add_images('input', img, step)\n",
    "\n",
    "\n",
    "    # torch.Size([64, 6, 30, 30])\n",
    "    output = torch.reshape(output, (-1, 3, 30, 30))\n",
    "    writer.add_images('output', output, step)\n",
    "\n",
    "    step = step + 1"
   ]
  },
  {
   "attachments": {},
   "cell_type": "markdown",
   "metadata": {},
   "source": [
    "### P19 最大池化层"
   ]
  },
  {
   "cell_type": "code",
   "execution_count": 48,
   "metadata": {},
   "outputs": [
    {
     "name": "stdout",
     "output_type": "stream",
     "text": [
      "Files already downloaded and verified\n"
     ]
    }
   ],
   "source": [
    "import torch\n",
    "from torch import nn\n",
    "from torch.utils.data import DataLoader\n",
    "from torch.utils.tensorboard import SummaryWriter\n",
    "\n",
    "dataset = torchvision.datasets.CIFAR10(root='./data', train=False, transform=torchvision.transforms.ToTensor(), download=True)\n",
    "\n",
    "dataloader = DataLoader(dataset, batch_size=64)\n",
    "# input = torch.tensor([[1, 2, 0, 3, 1],\n",
    "#                       [0, 1, 2, 3, 1],\n",
    "#                       [1, 2, 1, 0, 0],\n",
    "#                       [5, 2, 3, 1, 1],\n",
    "#                       [2, 1, 0, 1, 1]], dtype=torch.float32)\n",
    "\n",
    "# input= torch.reshape(input, (1, 1, 5, 5)) # (batch, channel, height, width)\n",
    "\n",
    "# MaxPool\n",
    "class Tudui(nn.Module):\n",
    "    def __init__(self):\n",
    "        super().__init__()\n",
    "        self.pool = nn.MaxPool2d(2, ceil_mode=False) \n",
    "    \n",
    "    def forward(self, input):\n",
    "        output = self.pool(input)\n",
    "        return output\n",
    "    \n",
    "tudui = Tudui()\n",
    "\n",
    "writer = SummaryWriter('./logs_MaxPool')\n",
    "step = 0\n",
    "for data in dataloader:\n",
    "    img, label = data\n",
    "    writer.add_images('input', img, step)\n",
    "    output = tudui(img)\n",
    "    writer.add_images('output', output, step)\n",
    "    step = step + 1"
   ]
  },
  {
   "attachments": {},
   "cell_type": "markdown",
   "metadata": {},
   "source": [
    "### P20 非线性激活函数"
   ]
  },
  {
   "cell_type": "code",
   "execution_count": 62,
   "metadata": {},
   "outputs": [
    {
     "name": "stdout",
     "output_type": "stream",
     "text": [
      "Files already downloaded and verified\n"
     ]
    }
   ],
   "source": [
    "import torch\n",
    "import torchvision\n",
    "from torch import nn\n",
    "from torch.utils.data import DataLoader\n",
    "from torch.utils.tensorboard import SummaryWriter\n",
    "\n",
    "# input = torch.tensor([[1, -0.5],\n",
    "#                        [-1, 3]], dtype=torch.float32)\n",
    "\n",
    "# output = torch.reshape(input, (1, 1, 2, 2))\n",
    "\n",
    "dataset = torchvision.datasets.CIFAR10(root='./data', train=False, transform=torchvision.transforms.ToTensor(), download=True)\n",
    "dataloader = DataLoader(dataset, batch_size=64)\n",
    "\n",
    "# ReLU and Sigmoid\n",
    "class Tudui(nn.Module):\n",
    "    def __init__(self):\n",
    "        super().__init__()\n",
    "        # self.relu = nn.ReLU()\n",
    "        self.sigmoid = nn.Sigmoid()\n",
    "    \n",
    "    def forward(self, input):\n",
    "        # output = self.relu(input)\n",
    "        output = self.sigmoid(input)\n",
    "        return output\n",
    "    \n",
    "tudui = Tudui()\n",
    "writer = SummaryWriter('./logs_ReLU_Sigmoid')\n",
    "\n",
    "\n",
    "step = 0\n",
    "for data in dataloader:\n",
    "    imgs, label = data\n",
    "    writer.add_images('input', imgs, global_step=step)\n",
    "    output = tudui(imgs)\n",
    "    writer.add_images('output', output, step)\n",
    "    step = step + 1\n",
    "    \n",
    "writer.close()"
   ]
  },
  {
   "attachments": {},
   "cell_type": "markdown",
   "metadata": {},
   "source": [
    "### P21 线性层及其他层介绍"
   ]
  },
  {
   "cell_type": "code",
   "execution_count": 70,
   "metadata": {},
   "outputs": [
    {
     "name": "stdout",
     "output_type": "stream",
     "text": [
      "Files already downloaded and verified\n",
      "torch.Size([64, 3, 32, 32])\n",
      "torch.Size([196608])\n",
      "torch.Size([10])\n"
     ]
    }
   ],
   "source": [
    "import torch\n",
    "import torchvision\n",
    "from torch import nn\n",
    "from torch.utils.data import DataLoader\n",
    "from torch.utils.tensorboard import SummaryWriter\n",
    "\n",
    "dataset = torchvision.datasets.CIFAR10(root='./data', train=False, transform=torchvision.transforms.ToTensor(), download=True)\n",
    "\n",
    "dataloader = DataLoader(dataset, batch_size=64)\n",
    "\n",
    "class Tudui(nn.Module):\n",
    "    def __init__(self):\n",
    "        super().__init__()\n",
    "        self.linear = nn.Linear(196608, 10)\n",
    "\n",
    "    def forward(self, input):\n",
    "        output = self.linear(input)\n",
    "        return output\n",
    "\n",
    "tudui = Tudui()\n",
    "for data in dataloader:\n",
    "    img, label = data\n",
    "    print(img.shape)\n",
    "    # output = torch.reshape(img, (1, 1, 1, -1))\n",
    "    output = torch.flatten(img)\n",
    "    print(output.shape)\n",
    "    output = tudui(output)\n",
    "    print(output.shape)\n",
    "    break"
   ]
  }
 ],
 "metadata": {
  "kernelspec": {
   "display_name": "base",
   "language": "python",
   "name": "python3"
  },
  "language_info": {
   "codemirror_mode": {
    "name": "ipython",
    "version": 3
   },
   "file_extension": ".py",
   "mimetype": "text/x-python",
   "name": "python",
   "nbconvert_exporter": "python",
   "pygments_lexer": "ipython3",
   "version": "3.10.9"
  },
  "orig_nbformat": 4
 },
 "nbformat": 4,
 "nbformat_minor": 2
}
